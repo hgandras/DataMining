{
 "cells": [
  {
   "cell_type": "markdown",
   "metadata": {},
   "source": [
    "Before you turn this problem in, make sure everything runs as expected. First, **restart the kernel** (in the menubar, select Kernel$\\rightarrow$Restart) and then **run all cells** (in the menubar, select Cell$\\rightarrow$Run All).\n",
    "\n",
    "Make sure you fill in any place that says `YOUR CODE HERE` or \"YOUR ANSWER HERE\", as well as your name and collaborators below:"
   ]
  },
  {
   "cell_type": "code",
   "execution_count": 112,
   "metadata": {},
   "outputs": [],
   "source": [
    "NAME = \"Hegyi Gáspár András\"\n",
    "COLLABORATORS = \"\""
   ]
  },
  {
   "cell_type": "markdown",
   "metadata": {},
   "source": [
    "---"
   ]
  },
  {
   "cell_type": "markdown",
   "metadata": {},
   "source": [
    "# Assignment 1: Fisher's and $\\chi^2$-test"
   ]
  },
  {
   "cell_type": "code",
   "execution_count": 113,
   "metadata": {},
   "outputs": [],
   "source": [
    "# setup\n",
    "import pandas as pd\n",
    "import numpy as np\n",
    "import scipy as sp\n",
    "import scipy.stats\n",
    "import math\n",
    "\n",
    "def assert_approx_equal(value1,value2):\n",
    "    assert np.isclose(value1,value2)"
   ]
  },
  {
   "cell_type": "markdown",
   "metadata": {},
   "source": [
    "A web authoring company uses A/B testing to select the best website design. A/B testing involves creating multiple versions (*A* and *B*) of the website in a campaign to test their effectiveness. Marketers split their audience and direct them to different versions to determine which performs better.\n",
    "\n",
    "\n",
    "**Workflow of A/B testing:**\n",
    "1. **Hypothesis:** Formulate a hypothesis about changes that might improve the click-through rate.\n",
    "2. **Variations:** Create two versions of the original site with specific changes.\n",
    "3. **Traffic Split:** Divide incoming traffic equally between the two website versions.\n",
    "4. **Testing Duration:** Run the test until statistically significant results are obtained.\n",
    "5. **Data Analysis:** Analyze the data to determine which version performs better.\n",
    "\n",
    "When comparing two phenomena (like the efficacy of drugs), we use statistical tests. For comparing, e.g., means of two continuous variables, Student's t-test is used. When we observe counts of occurrences of phenomena, we usually use the $\\chi^2$-test. \n",
    "However, Fisher's exact test is more suitable when the observed counts are small and in the form of a four-field contingency table. \n",
    "\n",
    "A/B testing allows the company to take a scientific approach to marketing.\n",
    "The company prepared two versions of the website, denoted as *A* and *B*. Users who visit the web page are shown one of the two new versions of the page. We will compare the efficacy of the versions *A* and *B*. We observed the number of clicks within the site.\n",
    "The following contingency table summarizes the results. In the table, $N$ denote the total number of visitors, $a$ is the number of visitors who saw the version *A* and followed a link\n",
    "within *A*, $b$ is the number of visitors of version *A* that did not follow \n",
    "any link within the website, ...\n"
   ]
  },
  {
   "cell_type": "markdown",
   "metadata": {},
   "source": [
    "#### Table 1\n",
    "|          | Click YES | Click NO | | Row sum |\t\n",
    "|----------|-----------|----------|-|---------|\n",
    "| Sample A |   $a$     |   $b$    | | $a+b$   |\n",
    "| Sample B |   $c$     |   $d$    | | $c+d$   |\n",
    "|__________|___________|__________| |_________|\n",
    "| Sum      |  $a+c$    |  $b+d$   | | $N$     |"
   ]
  },
  {
   "cell_type": "markdown",
   "metadata": {},
   "source": [
    "At first, we must formulate the so-called null hypothesis."
   ]
  },
  {
   "cell_type": "markdown",
   "metadata": {},
   "source": [
    "> Samples $A$ and $B$ were taken from the same probability distribution, and the differences between them\n",
    "> were caused by accidents only. In other words, the efficacies of both versions $A$ and $B$ are the same. "
   ]
  },
  {
   "cell_type": "markdown",
   "metadata": {},
   "source": [
    "## Task 1 \n",
    "Assuming that the null hypothesis is true, **derive the formula for computing the probability** that the table with results will have the same values as in *Table 1* for given values $a$, $b$, $c$, and $d$ ($N=a+b+c+d$). \n",
    "\n",
    "**Remarks:**\n",
    "\n",
    "* Stating that the probability corresponds to the hypergeometric probability distributions is insufficient. You should explain the meaning of all binomial coefficients or factorials in the formulas you will use!\n",
    "* You can write the complete derivation of the formula for the probability of *Table 1* by hand and submit it as a scanned picture (or an image captured by, e.g., a mobile phone) in a separate file.\n",
    "* You can get at most **3 points** for this part."
   ]
  },
  {
   "cell_type": "markdown",
   "metadata": {
    "deletable": false,
    "nbgrader": {
     "cell_type": "markdown",
     "checksum": "594300deaf811661d8ba98522495cf92",
     "grade": true,
     "grade_id": "cell-16648fea6d6d33ff",
     "locked": false,
     "points": 3,
     "schema_version": 3,
     "solution": true,
     "task": false
    }
   },
   "source": [
    "**Here, you can write your answer or the file name where the derivation is.**\n",
    "\n",
    "1. Assume the null hypothesis, that samples A and B are taken from the same probability distribution. We can reformulate the question to what is the probability that `a` people clicked yes on website `A` with the given marginal values. Since the marginal values are known, the other table values (`b,c,d`) are determined.\n",
    "\n",
    "2. Suppose the samples are labeled. If the samples are taken uniformly, it means that there are $n!$ possible orderings if the samples. \n",
    "\n",
    "3. Count the possibilities that there are exactly `a` people clicking on website `A`. Let's say we first get all the samples that click yes, which is (a+c). This means we have to count the possible ways to have `a` number of samples belonging to website `A`. This is $(a+c)\\choose a$ ways.\n",
    "\n",
    "4. By the same idea, the possible ways of having `b` people not clicking on website `A` from $b+d$ people who did not click is $(b+d)\\choose b$.\n",
    "\n",
    "5. `a` and `b` samples are chosen for website `A`, however since the samples are labeled there are $(a+b)!$ ways of ordering them. Similarly for website `B`, there are $(c+d)!$ ways of ordering them.\n",
    "\n",
    "6. The final probability is the product of the combinations and permutations, over the permutations of all of the elements. This is the hyperggeometric distribution with the variable `a`.  \n",
    "$$P(a_{11} = a)=\\frac{{(a+c)\\choose a} {(b+d)\\choose b} (a+b)!(c+d)!}{n!} = \\frac{{(a+c)\\choose a}{(b+d)\\choose b}}{n\\choose (a+b)}$$  \n",
    "\n",
    "7. Replacing the marginal values with $s_1,s_2$ for the columns and $r_1,r_2$ for the rows,we get the following equation:\n",
    "$$P(a_{11} = a)=\\frac{s_1!s_2!r_1!r_2!}{n!a!b!c!d!} = \\frac{{r_1\\choose a}{r_2\\choose b}}{n\\choose s_1}$$"
   ]
  },
  {
   "cell_type": "markdown",
   "metadata": {},
   "source": [
    "## Task 2\n",
    "In a campaign, the following counts were observed:\n",
    "\n",
    "#### *Table 2*\n",
    "|          | Click YES | Click NO | | Row sum |\t\n",
    "|----------|-----------|----------|-|---------|\n",
    "| Sample A |   4       |   10     | | 14      |\n",
    "| Sample B |   7       |   3      | | 10      |\n",
    "|__________|___________|__________| |_________|\n",
    "| Sum      |  11       |   13     | | 24      |\n",
    "\n",
    "Implement function `table_probability(t)` that computes the probability of *Table 1* (`t` is a 2-by-2 numpy array with the values $a$, $b$, $c$ and $d$ in two rows and two columns) when assuming the null hypothesis is valid, using the formula you have derived in **Task 1**. "
   ]
  },
  {
   "cell_type": "code",
   "execution_count": 114,
   "metadata": {
    "deletable": false,
    "nbgrader": {
     "cell_type": "code",
     "checksum": "78f54d827226f19e5f987a8416768ade",
     "grade": false,
     "grade_id": "cell-9b44f2ab978fdd8d",
     "locked": false,
     "schema_version": 3,
     "solution": true,
     "task": false
    }
   },
   "outputs": [],
   "source": [
    "\n",
    "def getMarginals(t):\n",
    "    \"\"\"\n",
    "    Returns\n",
    "    -------\n",
    "    s1,s2,r1,r2\n",
    "    \"\"\"\n",
    "    a,b,c,d = t[0,0],t[0,1],t[1,0],t[1,1]\n",
    "    s1 = a+c\n",
    "    s2 = b+d\n",
    "    r1 = a+b\n",
    "    r2 = c+d\n",
    "    return s1,s2,r1,r2\n",
    "\n",
    "def hypergeometric(k,N,K,n):\n",
    "    return math.comb(K,k)*math.comb(N-K,n-k)/math.comb(N,n)\n",
    "\n",
    "def table_probability(t):\n",
    "    a = t[0,0]\n",
    "    s1,s2,r1,r2 = getMarginals(t)\n",
    "    N = np.sum(t)\n",
    "    k = a\n",
    "    K = r1\n",
    "    n = s1\n",
    "    #numerator = math.factorial(s1)*math.factorial(s2)*math.factorial(r1)*math.factorial(r2)\n",
    "    #nominator = math.factorial(n)*math.factorial(a)*math.factorial(b)*math.factorial(c)*math.factorial(d)\n",
    "    return hypergeometric(k,N,K,n)"
   ]
  },
  {
   "cell_type": "markdown",
   "metadata": {},
   "source": [
    "Using the function, calculate the probability of *Table 2*. Additionally, your implementation should pass all the tests below and some additional hidden tests (**1 point for this part**)."
   ]
  },
  {
   "cell_type": "code",
   "execution_count": 115,
   "metadata": {
    "deletable": false,
    "editable": false,
    "nbgrader": {
     "cell_type": "code",
     "checksum": "cad5ec6f4471017c67552bade3f69497",
     "grade": true,
     "grade_id": "cell-c4065812a87c7c36",
     "locked": true,
     "points": 1,
     "schema_version": 3,
     "solution": false,
     "task": false
    }
   },
   "outputs": [
    {
     "name": "stdout",
     "output_type": "stream",
     "text": [
      "[[ 4 10]\n",
      " [ 7  3]] has probability 0.04812222371786243\n"
     ]
    }
   ],
   "source": [
    "table = np.array([[5,5], [5,5]])\n",
    "assert_approx_equal(table_probability(table),0.343718)\n",
    "\n",
    "table_2 = np.array([[4, 10], [7, 3]])\n",
    "print(f\"{table_2} has probability {table_probability(table_2)}\")\n"
   ]
  },
  {
   "cell_type": "markdown",
   "metadata": {},
   "source": [
    "## Task 3\n",
    "\n",
    "The difference between versions *A* and *B* of the website is evident. Is this difference statistically significant? That is, assuming that both samples *A* and *B* are from the same probability distribution, what is the probability that two samples differ to the same or even higher extent? If this probability is small, e.g., at most $\\alpha=0.05$, we can state with high confidence $(1−\\alpha)=0.95$ that the null hypothesis is not valid. Based on the marginal sums ($a+b$, $c+d$, $a+c$, and $b+d$), we can easily compute that the expected value of the field $a$ is approximately $6.16$. The notion of \"differing to the same or even greater extent\" can be understood in two ways:\n",
    "\n",
    "1. one-sided &ndash; only the values of $a$ that are on one side from the expected value; in our case, the values 8 and 9, or\n",
    "2. two-sided &ndash; all the values of $a$ such that $|a−6.16|\\ge 8−6.16$; in our case, the values 0, 1, 2, 3, 4, 8, and 9.\n",
    "  \n",
    "In case 1, we use a one-tailed test; in case 2, we use a two-tailed test.\n",
    "\n",
    "Answer the following question (**1 point**)\n",
    "\n",
    "> **Question:** In general (with sufficient data), which of the four combinations of tests {one-tiled, two-tailed}×\n",
    "{Fisher's test, χ2-test} are meaningful?"
   ]
  },
  {
   "cell_type": "markdown",
   "metadata": {
    "deletable": false,
    "nbgrader": {
     "cell_type": "markdown",
     "checksum": "619f34d8b6de390480c639edb95d46a4",
     "grade": true,
     "grade_id": "cell-4715cb1d33d5188c",
     "locked": false,
     "points": 1,
     "schema_version": 3,
     "solution": true,
     "task": false
    }
   },
   "source": [
    "**Your answer goes here.**\n",
    "\n",
    "YOUR ANSWER HERE"
   ]
  },
  {
   "cell_type": "markdown",
   "metadata": {},
   "source": [
    "Using function `table_probability`, implement the function `Fisher_p_value(table, alternative)` that for the contingency table `table` of dimension 2 $\\times$ 2 computes the p-value of Fisher's test. The parameter `alternative` can have only two values:\n",
    "1. For `alternative` equal to 'two-tailed', the function returns the p-value of the two-tailed Fisher's test.\n",
    "2. For `alternative` equal to 'one-tailed', the function returns the p-value of the one-tailed Fisher's test, i.e., the probability that \n",
    "   the observed counts are as seen in `table` or are more extreme &ndash; further from the expected ones *in the same \n",
    "   direction* from the expected counts as `table`. If `table` contains exactly the expected counts, we will consider the direction for the values in the upper left corner less or equal to $a$."
   ]
  },
  {
   "cell_type": "code",
   "execution_count": 116,
   "metadata": {
    "deletable": false,
    "nbgrader": {
     "cell_type": "code",
     "checksum": "72953bbe811fca6bdaa91871899585c2",
     "grade": false,
     "grade_id": "cell-4373e7a1e9d66569",
     "locked": false,
     "schema_version": 3,
     "solution": true,
     "task": false
    }
   },
   "outputs": [],
   "source": [
    "def tableProbabilities(t):\n",
    "    marginals= getMarginals(t)\n",
    "    minMarginal = np.argmin(marginals)\n",
    "    s1,s2,r1,r2 = marginals\n",
    "    if(minMarginal == 1):\n",
    "        t = t[:,[1,0]]\n",
    "        s1,s2 = s2,s1\n",
    "    elif(minMarginal == 3):\n",
    "        t = t[[1,0]]\n",
    "        r1,r2 = r2,r1\n",
    "    N = np.sum(t)\n",
    "    return np.array([table_probability(np.array([[k,r1-k],[s1-k,N+k-s1-r1]])) for k in range(0,marginals[minMarginal]+1)])\n",
    "\n",
    "def Fisher_p_value(table, alternative='two-tailed'):\n",
    "    if table.any()<0:\n",
    "        ValueError(\"Table can not contain negative value!\")\n",
    "    allProbabilities = tableProbabilities(table)\n",
    "    tableProbability = table_probability(table)\n",
    "    if alternative == 'two-tailed':\n",
    "        return sum(allProbabilities[np.where(allProbabilities<=tableProbability)])\n",
    "    ## Else get the minimum value of the array, then check its expected value, and based on that \n",
    "    ## decide the direction of the sums\n",
    "        \n",
    "    # return p-value of the Fisher's exact test for the contingency table table\n",
    "    # For alternative equal 'two-tailed', it returns the p-value of the two-sided test    \n",
    "    # For alternative equal 'one-tailed', it returns the p-value of the one-sided test\n",
    "    # Implement the test using the function table_probability().\n",
    "    # YOUR CODE HERE\n"
   ]
  },
  {
   "cell_type": "code",
   "execution_count": 117,
   "metadata": {},
   "outputs": [
    {
     "data": {
      "text/plain": [
       "array([0, 0], dtype=int64)"
      ]
     },
     "execution_count": 117,
     "metadata": {},
     "output_type": "execute_result"
    }
   ],
   "source": [
    "minPos = np.argwhere(table == table.min())\n",
    "minPos[0]"
   ]
  },
  {
   "cell_type": "markdown",
   "metadata": {},
   "source": [
    "Now, we can compute p-values for both alternatives of the Fisher's test for *Table 2*. In the following cell, the function `Fisher_p_value` will be tested (including some hidden tests) and applied on `table_2` (**2 points** of the score)."
   ]
  },
  {
   "cell_type": "code",
   "execution_count": 118,
   "metadata": {
    "deletable": false,
    "editable": false,
    "nbgrader": {
     "cell_type": "code",
     "checksum": "1b34ce39fe3ec359204d7c583ef182cd",
     "grade": true,
     "grade_id": "cell-de46f8e68caf637c",
     "locked": true,
     "points": 2,
     "schema_version": 3,
     "solution": false,
     "task": false
    }
   },
   "outputs": [
    {
     "name": "stdout",
     "output_type": "stream",
     "text": [
      "p-value of two-tailed Fisher's test for the table\n",
      "t=array([[5, 5],\n",
      "       [5, 5]])\n",
      " is 1.0\n",
      "______________________________\n",
      "p-value of one-tailed Fisher's test for the table\n",
      "t=array([[5, 5],\n",
      "       [5, 5]])\n",
      " is None\n"
     ]
    },
    {
     "ename": "TypeError",
     "evalue": "ufunc 'isfinite' not supported for the input types, and the inputs could not be safely coerced to any supported types according to the casting rule ''safe''",
     "output_type": "error",
     "traceback": [
      "\u001b[1;31m---------------------------------------------------------------------------\u001b[0m",
      "\u001b[1;31mTypeError\u001b[0m                                 Traceback (most recent call last)",
      "Cell \u001b[1;32mIn[118], line 13\u001b[0m\n\u001b[0;32m     11\u001b[0m p \u001b[38;5;241m=\u001b[39m Fisher_p_value(t, alternative)\n\u001b[0;32m     12\u001b[0m \u001b[38;5;28mprint\u001b[39m(\u001b[38;5;124mf\u001b[39m\u001b[38;5;124m\"\u001b[39m\u001b[38;5;124mp-value of \u001b[39m\u001b[38;5;132;01m{\u001b[39;00malternative\u001b[38;5;132;01m}\u001b[39;00m\u001b[38;5;124m Fisher\u001b[39m\u001b[38;5;124m'\u001b[39m\u001b[38;5;124ms test for the table\u001b[39m\u001b[38;5;130;01m\\n\u001b[39;00m\u001b[38;5;132;01m{\u001b[39;00mt\u001b[38;5;132;01m=}\u001b[39;00m\u001b[38;5;130;01m\\n\u001b[39;00m\u001b[38;5;124m is \u001b[39m\u001b[38;5;132;01m{\u001b[39;00mp\u001b[38;5;132;01m}\u001b[39;00m\u001b[38;5;124m\"\u001b[39m)\n\u001b[1;32m---> 13\u001b[0m assert_approx_equal(p, \u001b[38;5;241m0.6718591\u001b[39m)\n\u001b[0;32m     15\u001b[0m \u001b[38;5;28mprint\u001b[39m(\u001b[38;5;124m'\u001b[39m\u001b[38;5;124m=\u001b[39m\u001b[38;5;124m'\u001b[39m\u001b[38;5;241m*\u001b[39m\u001b[38;5;241m20\u001b[39m)\n\u001b[0;32m     17\u001b[0m t \u001b[38;5;241m=\u001b[39m np\u001b[38;5;241m.\u001b[39marray([[\u001b[38;5;241m38\u001b[39m,\u001b[38;5;241m5\u001b[39m], [\u001b[38;5;241m20\u001b[39m,\u001b[38;5;241m9\u001b[39m]])\n",
      "Cell \u001b[1;32mIn[113], line 9\u001b[0m, in \u001b[0;36massert_approx_equal\u001b[1;34m(value1, value2)\u001b[0m\n\u001b[0;32m      8\u001b[0m \u001b[38;5;28;01mdef\u001b[39;00m \u001b[38;5;21massert_approx_equal\u001b[39m(value1,value2):\n\u001b[1;32m----> 9\u001b[0m     \u001b[38;5;28;01massert\u001b[39;00m np\u001b[38;5;241m.\u001b[39misclose(value1,value2)\n",
      "File \u001b[1;32mc:\\Users\\hgand\\anaconda3\\Lib\\site-packages\\numpy\\core\\numeric.py:2348\u001b[0m, in \u001b[0;36misclose\u001b[1;34m(a, b, rtol, atol, equal_nan)\u001b[0m\n\u001b[0;32m   2345\u001b[0m     dt \u001b[38;5;241m=\u001b[39m multiarray\u001b[38;5;241m.\u001b[39mresult_type(y, \u001b[38;5;241m1.\u001b[39m)\n\u001b[0;32m   2346\u001b[0m     y \u001b[38;5;241m=\u001b[39m asanyarray(y, dtype\u001b[38;5;241m=\u001b[39mdt)\n\u001b[1;32m-> 2348\u001b[0m xfin \u001b[38;5;241m=\u001b[39m isfinite(x)\n\u001b[0;32m   2349\u001b[0m yfin \u001b[38;5;241m=\u001b[39m isfinite(y)\n\u001b[0;32m   2350\u001b[0m \u001b[38;5;28;01mif\u001b[39;00m \u001b[38;5;28mall\u001b[39m(xfin) \u001b[38;5;129;01mand\u001b[39;00m \u001b[38;5;28mall\u001b[39m(yfin):\n",
      "\u001b[1;31mTypeError\u001b[0m: ufunc 'isfinite' not supported for the input types, and the inputs could not be safely coerced to any supported types according to the casting rule ''safe''"
     ]
    }
   ],
   "source": [
    "t = np.array([[5,5], [5,5]])\n",
    "alternative = 'two-tailed'\n",
    "p = Fisher_p_value(t, alternative)\n",
    "print(f\"p-value of {alternative} Fisher's test for the table\\n{t=}\\n is {p}\")\n",
    "assert_approx_equal(p, 1.0)\n",
    "\n",
    "print('_'*30)\n",
    "\n",
    "t = np.array([[5,5], [5,5]])\n",
    "alternative = 'one-tailed'\n",
    "p = Fisher_p_value(t, alternative)\n",
    "print(f\"p-value of {alternative} Fisher's test for the table\\n{t=}\\n is {p}\")\n",
    "assert_approx_equal(p, 0.6718591)\n",
    "\n",
    "print('='*20)\n",
    "\n",
    "t = np.array([[38,5], [20,9]])\n",
    "alternative = 'one-tailed'\n",
    "p = Fisher_p_value(t, alternative)\n",
    "print(f\"p-value of {alternative} Fisher's test for the table\\n{t=}\\n is {p}\")\n",
    "assert_approx_equal(p, 0.042128934)\n",
    "\n",
    "alternative = 'two-tailed'\n",
    "p = Fisher_p_value(t, alternative)\n",
    "print(f\"p-value of {alternative} Fisher's test for the table\\n{t=}\\n is {p}\")\n",
    "assert_approx_equal(p, 0.0667809135)\n",
    "\n",
    "print(\"=\"*60 + \"\\n\" + \"=\"*60)\n",
    "one_tailed_Fisher_p_value = Fisher_p_value(table_2, 'one-tailed')\n",
    "two_tailed_Fisher_p_value = Fisher_p_value(table_2, 'two-tailed')\n",
    "print(f\"For the table\\n{table_2}\")\n",
    "print(f\"The p-value of the Fisher's one-tailed test is {one_tailed_Fisher_p_value}\")\n",
    "print(f\"The p-value of the Fisher's two-tailed test is {two_tailed_Fisher_p_value}\")\n"
   ]
  },
  {
   "cell_type": "markdown",
   "metadata": {},
   "source": [
    "While ignoring the requirement that the χ2-test can be used only if all expected counts in the contingency table are at least 5, for all meaningful combinations of the χ2-test for *Table 2* compute χ2-statistics and its corresponding p-value.\n",
    "\n",
    "For computing the χ2-test use suitable functions from the Python `scipy` module like `scipy.stats.chi2.pdf()`, `scipy.stats.chi2.cdf()`, `scipy.stats.chi2.sf()`, and `scipy.stats.chi2.isf()`. Your code should end with storing the value of the χ2-statistics of any of the meaningful combinations into variable `x2_stat` and its corresponsing p-value in the variable `x2_p_value`. "
   ]
  },
  {
   "cell_type": "code",
   "execution_count": null,
   "metadata": {
    "deletable": false,
    "nbgrader": {
     "cell_type": "code",
     "checksum": "4c6a56633217a82b3774c7b793148849",
     "grade": false,
     "grade_id": "cell-48899b24bcc3ccc2",
     "locked": false,
     "schema_version": 3,
     "solution": true,
     "task": false
    }
   },
   "outputs": [
    {
     "ename": "NotImplementedError",
     "evalue": "",
     "output_type": "error",
     "traceback": [
      "\u001b[1;31m---------------------------------------------------------------------------\u001b[0m",
      "\u001b[1;31mNotImplementedError\u001b[0m                       Traceback (most recent call last)",
      "Cell \u001b[1;32mIn[92], line 9\u001b[0m\n\u001b[0;32m      7\u001b[0m x2_p_value \u001b[38;5;241m=\u001b[39m \u001b[38;5;241m.\u001b[39m\u001b[38;5;241m.\u001b[39m\u001b[38;5;241m.\u001b[39m\n\u001b[0;32m      8\u001b[0m \u001b[38;5;66;03m# YOUR CODE HERE\u001b[39;00m\n\u001b[1;32m----> 9\u001b[0m \u001b[38;5;28;01mraise\u001b[39;00m \u001b[38;5;167;01mNotImplementedError\u001b[39;00m()\n",
      "\u001b[1;31mNotImplementedError\u001b[0m: "
     ]
    }
   ],
   "source": [
    "# here goes your code for computing  χ2-test using suitable functions \n",
    "# from the Python scipy module like scipy.stats.chi2.cdf(), \n",
    "# scipy.stats.chi2.sf() and scipy.stats.chi2.isf()\n",
    "# BUT NOT scipy.stats.chi2_contingency()\n",
    "\n",
    "x2_stat = ...\n",
    "x2_p_value = ...\n",
    "# YOUR CODE HERE\n",
    "raise NotImplementedError()"
   ]
  },
  {
   "cell_type": "markdown",
   "metadata": {},
   "source": [
    " In the following cell, your results (`x2_stat` and `x2_p_value`) will be evaluated (**1 point**)."
   ]
  },
  {
   "cell_type": "code",
   "execution_count": null,
   "metadata": {
    "deletable": false,
    "editable": false,
    "nbgrader": {
     "cell_type": "code",
     "checksum": "a6bc102463b0d31f4c0a6f69fb260ad9",
     "grade": true,
     "grade_id": "cell-6d0c6efb3129999f",
     "locked": true,
     "points": 1,
     "schema_version": 3,
     "solution": false,
     "task": false
    }
   },
   "outputs": [],
   "source": [
    "# here, your solution will be evaluated\n",
    "print(f\"{x2_stat=}\")\n",
    "print(f\"{x2_p_value=}\")\n"
   ]
  },
  {
   "cell_type": "markdown",
   "metadata": {},
   "source": [
    "Of course, `scipy` contains functions for computing Fisher's exact test and χ2-test. Compute the above tests for *Table 2* using the functions `scipy.stats.fisher_exact()` and `scipy.stats.chi2_contingency()`  (**1 point**)."
   ]
  },
  {
   "cell_type": "code",
   "execution_count": null,
   "metadata": {
    "deletable": false,
    "nbgrader": {
     "cell_type": "code",
     "checksum": "a46222db94789dc187976239cb22de5b",
     "grade": true,
     "grade_id": "cell-5976302d9d823e68",
     "locked": false,
     "points": 1,
     "schema_version": 3,
     "solution": true,
     "task": false
    }
   },
   "outputs": [],
   "source": [
    "# YOUR CODE HERE\n",
    "raise NotImplementedError()"
   ]
  },
  {
   "cell_type": "markdown",
   "metadata": {},
   "source": [
    "## Final evaluation\n",
    "\n",
    "1. State explicitly whether we can or cannot reject the null hypothesis for each test you have performed for *Table 2*.\n",
    "2. Further, compare the results obtained with your implementation of the tests and the results obtained when using the functions \n",
    "   `scipy.stats.fisher_exact()` and `scipy.stats.chi2_contingency()`. If there are any differences, explain them (**1 point**). "
   ]
  },
  {
   "cell_type": "markdown",
   "metadata": {
    "deletable": false,
    "nbgrader": {
     "cell_type": "markdown",
     "checksum": "dea0f364da51362369e6edc57bb64873",
     "grade": true,
     "grade_id": "cell-d6071350659ec21b",
     "locked": false,
     "points": 1,
     "schema_version": 3,
     "solution": true,
     "task": false
    }
   },
   "source": [
    "**Here Your answer goes here.**\n",
    "\n",
    "YOUR ANSWER HERE"
   ]
  }
 ],
 "metadata": {
  "interpreter": {
   "hash": "b69a0928c92c0b0e42f38df67d4dfafe1423e04848311fa5ae6e94359e52488d"
  },
  "kernelspec": {
   "display_name": "Python 3 (ipykernel)",
   "language": "python",
   "name": "python3"
  },
  "language_info": {
   "codemirror_mode": {
    "name": "ipython",
    "version": 3
   },
   "file_extension": ".py",
   "mimetype": "text/x-python",
   "name": "python",
   "nbconvert_exporter": "python",
   "pygments_lexer": "ipython3",
   "version": "3.11.7"
  }
 },
 "nbformat": 4,
 "nbformat_minor": 4
}

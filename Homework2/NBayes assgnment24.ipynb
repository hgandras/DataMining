{
 "cells": [
  {
   "cell_type": "markdown",
   "metadata": {},
   "source": [
    "Before you turn this problem in, make sure everything runs as expected. First, **restart the kernel** (in the menubar, select Kernel$\\rightarrow$Restart) and then **run all cells** (in the menubar, select Cell$\\rightarrow$Run All).\n",
    "\n",
    "Make sure you fill in any place that says `YOUR CODE HERE` or \"YOUR ANSWER HERE\", as well as your name and collaborators below:"
   ]
  },
  {
   "cell_type": "code",
   "execution_count": 157,
   "metadata": {},
   "outputs": [],
   "source": [
    "NAME = \"Hegyi Gáspár András\"\n",
    "COLLABORATORS = \"\""
   ]
  },
  {
   "cell_type": "markdown",
   "metadata": {},
   "source": [
    "---"
   ]
  },
  {
   "cell_type": "markdown",
   "metadata": {},
   "source": [
    "# Assignment: Naïve Bayes Classifier\n",
    "\n",
    "In this assignment, you will implement the Naïve Bayes classifier and compare it to that one implemented `scikit-learn` module. The goal is to investigate the influence of Laplace correction on the classification results for the Naïve Bayes classifier.\n",
    "\n",
    "As a sample dataset, we will use the MNIST dataset of handwritten digits quantized into vectors of length 784, where each element of a vector is the gray level of the corresponding picture pixel. The original pictures have dimensions 28$\\times$28. All vectors contain only pixels with three possible values: 0,1,2. The value 2 indicates a black pixel, the value 0 corresponds to a white pixel, and the value 1 corresponds to a gray pixel.\n",
    "\n",
    "The file `MNIST3_dataset.npz` with the dataset can be downloaded from Moodle together with this notebook. "
   ]
  },
  {
   "cell_type": "code",
   "execution_count": 158,
   "metadata": {},
   "outputs": [],
   "source": [
    "import numpy as np\n",
    "import pandas as pd\n",
    "import matplotlib.pyplot as plt\n"
   ]
  },
  {
   "cell_type": "code",
   "execution_count": 159,
   "metadata": {},
   "outputs": [
    {
     "data": {
      "text/plain": [
       "['X_train', 'X_validate', 'X_test', 'y_train', 'y_validate', 'y_test']"
      ]
     },
     "execution_count": 159,
     "metadata": {},
     "output_type": "execute_result"
    }
   ],
   "source": [
    "# in the load method the parameter allow_pickle must \n",
    "# be set to True for unpacking the data\n",
    "npzfile = np.load('MNIST3_v1_dataset.npz', allow_pickle=True)\n",
    "npzfile.files"
   ]
  },
  {
   "cell_type": "markdown",
   "metadata": {},
   "source": [
    "The arrays `X_train` and `y_train` contain training input data and true classes. The arrays `X_validate` and `y_validate` contain validation input data and true classes. The arrays `X_test` and `y_test` contain test inputs and true labels. E.g., let us inspect the 34th test sample."
   ]
  },
  {
   "cell_type": "code",
   "execution_count": 160,
   "metadata": {},
   "outputs": [
    {
     "name": "stdout",
     "output_type": "stream",
     "text": [
      "True label 7\n"
     ]
    },
    {
     "data": {
      "image/png": "[encoded data removed]",
      "text/plain": [
       "<Figure size 200x200 with 1 Axes>"
      ]
     },
     "metadata": {},
     "output_type": "display_data"
    }
   ],
   "source": [
    "s = 34\n",
    "plt.figure(figsize=(2,2))\n",
    "plt.imshow(npzfile['X_test'][s].reshape(28,28), cmap='Greys')\n",
    "y_test = npzfile['y_test']\n",
    "print('True label',y_test[s])"
   ]
  },
  {
   "cell_type": "markdown",
   "metadata": {},
   "source": [
    "You should implement your own Naïve Bayes classifier for classifying the handwritten digits. For that, you **must not use any classifier from another toolbox or library**. You should implement the following two functions:\n",
    "* `NBTrain` for training a Naïve Bayes classifier with a Laplace correction, and\n",
    "* `NBClassify` for classification.\n",
    "\n",
    "After implementing the functions, you should test your classifier on the test \n",
    "set of handwritten digits. Below you will find a detailed description of the functions you should implement and tests you should perform."
   ]
  },
  {
   "cell_type": "markdown",
   "metadata": {},
   "source": [
    "## Task 1: Implement the function `NBTrain()`\n",
    "\n",
    "The first function is \n",
    "\n",
    "    NBTrain(Pat, PatClass, FNum, CNum, LC=0)\n",
    "    \n",
    "where \n",
    "* `Pat` are training patterns stored in a two-dimensional array of integers with values between 0 and `FNum-1`,\n",
    "* `PatClass` are true classes of the patterns in the array `Pat`; that is, `PatClass[i]` is the true class for the pattern `Pat[i]`,\n",
    "* `FNum`is the number of possible values for a feature, the features can have values between 0 and `FNum-1` only, we assume `FNum` $\\le10$,\n",
    "* `CNum` is the number of classes, `PatClass` can contain only values between 0 and `CNum-1` (we assume `CNum` $\\le 20$), and\n",
    "* `LC` is the value of Laplace correction.\n",
    "\n",
    "Function `NBTrain` should return a pair `(B,P)` of tables:\n",
    "* `B` is a three-dimensional array, where `B[f,i,c]` is the **logarithm** of the probability that a pattern with value `f` in feature `i` is classified into the class `c`. For computing this conditional probability, you should use Laplace correction in the following form \n",
    "\n",
    "$B[f,i,c] = \\log\\frac{\\text{the number of pattern with classification } c \\text{ and value } f \\text{ in the element } i \\text{ of the pattern} + LC}{\\text{the number of patterns from class } c + FNum\\cdot LC}$\n",
    "\n",
    "*  `P` is an array of log priors &ndash; **logarithms** of the estimates of apriori probabilities for all classes (without the Laplace correction)\n",
    "\n",
    "$$P[c] = \\log \\frac{\\text{the number of patterns classified into class } c}{\\text{the number of all patterns}}\\ .$$"
   ]
  },
  {
   "cell_type": "code",
   "execution_count": 161,
   "metadata": {
    "deletable": false,
    "nbgrader": {
     "cell_type": "code",
     "checksum": "d90fcd0685910bc6e4d944f96fdc56e3",
     "grade": false,
     "grade_id": "cell-893037a547e8a2de",
     "locked": false,
     "schema_version": 3,
     "solution": true,
     "task": false
    }
   },
   "outputs": [],
   "source": [
    "def NBTrain(Pat, PatClass, FNum, CNum, LC=0):\n",
    "    # the function computes two tables for the Naïve Bayes classifier\n",
    "    # Parameters:\n",
    "    #    Pat      training patterns stored in a two-dimensional \n",
    "    #             numpy array of integers with values between 0 and FNum-1\n",
    "    #    PatClass true classes of the patterns in the array Pat, \n",
    "    #             integers between 0 to CNum-1\n",
    "    #    FNum     the number of possible values for a feature, \n",
    "    #             the features can have values between 0 and FNum-1\n",
    "    #    CNum     the number of classes\n",
    "    #    LC       the value (float) of Laplace correction\n",
    "    # Returns a pair (B,P) of tables:\n",
    "    #    B        a three-dimensional array, where B[f,i,c] is the \n",
    "    #             **base-2 logarithm** of the probability that a pattern with value f\n",
    "    #             in feature i is classified into the class c. \n",
    "    #             For computing this conditional probability, the Laplace \n",
    "    #             correction LC should be used \n",
    "    #    P        an array of log priors; P[c] is the (base-2 logarithm) of the prior\n",
    "    #             probability that a sample will be from the class c\n",
    "    numEntries = Pat.shape[0]\n",
    "    numFeatures = Pat.shape[1]\n",
    "    counts = np.zeros((FNum,numFeatures,CNum),dtype = np.float64)\n",
    "    classCounts = np.zeros(CNum,dtype=np.float64)\n",
    "\n",
    "    for c,element in enumerate(Pat):\n",
    "        elementClass = PatClass[c]\n",
    "        classCounts[elementClass]+=1 #Count the specific class\n",
    "        classIndices = np.repeat(elementClass,numFeatures)\n",
    "        featureIndices = np.arange(numFeatures)\n",
    "        np.add.at(counts,(element,featureIndices,classIndices),1)\n",
    "    priors = np.log2(classCounts/numEntries)\n",
    "\n",
    "    counts += LC\n",
    "    classCounts += FNum*LC\n",
    "    return  np.log2(counts/classCounts),priors\n",
    "    "
   ]
  },
  {
   "cell_type": "markdown",
   "metadata": {},
   "source": [
    "Let us try the implementation on a tiny dataset of three samples with two attributes:\n",
    "\n",
    "Attr1 |\tAttr2 |\tClass\n",
    "------|-------|------\n",
    "0 |     0 |   0\n",
    "1 |     0 |   0   \n",
    "2 |     1 |   1\n",
    "\n",
    "The following cell will test your implementation of `NBTrain`, including several **hidden tests** (you can obtain **3 points**).\n",
    "\n",
    "*Note: Warning `RuntimeWarning: divide by zero encountered in log ...`  is O.K.*, but you can turn it off by calling\n",
    "\n",
    "    np.seterr(divide = 'ignore')\n",
    "\n",
    "and back\n",
    "\n",
    "    np.seterr(divide = 'warn') "
   ]
  },
  {
   "cell_type": "code",
   "execution_count": 162,
   "metadata": {
    "deletable": false,
    "editable": false,
    "nbgrader": {
     "cell_type": "code",
     "checksum": "21352cf6f4ba38dd6c175565f94081c5",
     "grade": true,
     "grade_id": "cell-1fe26e02dd5dda04",
     "locked": true,
     "points": 3,
     "schema_version": 3,
     "solution": false,
     "task": false
    }
   },
   "outputs": [
    {
     "name": "stdout",
     "output_type": "stream",
     "text": [
      "\n",
      "B=array([[[ -1., -inf],\n",
      "        [  0., -inf]],\n",
      "\n",
      "       [[ -1., -inf],\n",
      "        [-inf,   0.]],\n",
      "\n",
      "       [[-inf,   0.],\n",
      "        [-inf, -inf]]])\n",
      "P=array([-0.5849625, -1.5849625])\n",
      "\n",
      "B=array([[[-1.32192809, -2.        ],\n",
      "        [-0.73696559, -2.        ]],\n",
      "\n",
      "       [[-1.32192809, -2.        ],\n",
      "        [-2.32192809, -1.        ]],\n",
      "\n",
      "       [[-2.32192809, -1.        ],\n",
      "        [-2.32192809, -2.        ]]])\n",
      "P=array([-0.5849625, -1.5849625])\n"
     ]
    },
    {
     "name": "stderr",
     "output_type": "stream",
     "text": [
      "C:\\Users\\hgand\\AppData\\Local\\Temp\\ipykernel_21928\\3793682572.py:36: RuntimeWarning: divide by zero encountered in log2\n",
      "  return  np.log2(counts/classCounts),priors\n"
     ]
    }
   ],
   "source": [
    "X = np.array([[0,0],\n",
    "              [1,0],\n",
    "              [2,1]])\n",
    "y = np.array([0,0,1])\n",
    "\n",
    "B, P = NBTrain(X, y, 3, 2, LC=0)\n",
    "print(f\"\\n{B=}\\n{P=}\")\n",
    "assert np.allclose(B[1], np.array([[    -1., -np.inf],\n",
    "                                   [-np.inf,      0.]]))\n",
    "assert np.allclose(P, np.array([-0.5849625, -1.5849625]))\n",
    "\n",
    "B, P = NBTrain(X, y, 3, 2, LC=1)\n",
    "print(f\"\\n{B=}\\n{P=}\")\n",
    "assert np.allclose(B[2], np.array([[-2.32192809, -1.        ],\n",
    "                                   [-2.32192809, -2.        ]]))\n",
    "assert np.allclose(P, np.array([-0.5849625, -1.5849625]))\n"
   ]
  },
  {
   "cell_type": "markdown",
   "metadata": {},
   "source": [
    "## Task 2: Implement the function `NBClassify()`\n",
    "\n",
    "The second function \n",
    "\n",
    "    NBClassify(Pat, B, P)\n",
    "\n",
    "computes the classification of the patterns `Pat` based on tables `B` and `P` produced by the function `NBTrain` and using the method of Naïve Bayes classifier. Its parameters are\n",
    "* `Pat` is a two-dimensional array of patterns (each row of `Pat` is one pattern),\n",
    "* `B` is a three-dimensional array of floats - the first array computed by `NBTrain`, and\n",
    "* `P` is a vector of floats - the second array computed by `NBTrain`.\n",
    "\n",
    "The function returns a vector containing predicted classes for all patterns from `Pat`.\n",
    "\n",
    "In the implementation, you should use a logarithm, as otherwise, by computing products of a large number of values less than one, the accuracy can be lost."
   ]
  },
  {
   "cell_type": "code",
   "execution_count": 163,
   "metadata": {
    "deletable": false,
    "nbgrader": {
     "cell_type": "code",
     "checksum": "5977531e0208db19256a44bff8b96588",
     "grade": false,
     "grade_id": "cell-4560197cd66bb962",
     "locked": false,
     "schema_version": 3,
     "solution": true,
     "task": false
    }
   },
   "outputs": [],
   "source": [
    "def NBClassify(Pat, B, P):\n",
    "    # using the method of Naïve Bayes classifier, computes \n",
    "    # the classification of the patterns Pat \n",
    "    # based on tables B and P produced by the function NBTrain\n",
    "    # Parameters:\n",
    "    #   Pat a two-dimensional array of patterns (each row of Pat is one pattern),\n",
    "    #   B   a three-dimensional array of floats - the first array computed by NBTrain, and\n",
    "    #   P   a vector of floats - the second array computed by NBTrain.\n",
    "    # Returns: a vector containing predicted classes for all patterns from Pat.\n",
    "    # 1. Calculate the probabilities for the entry as a sum of logarithms for all possible classes\n",
    "    # 2. Take power of the logs\n",
    "    # 3. Find the maximum value (that will be the class the entry belongs to)\n",
    "    numClasses = P.shape[0]\n",
    "    numEntries = Pat.shape[0]\n",
    "    numFeatures = Pat.shape[1]\n",
    "    predicts = np.zeros((numEntries,numClasses),dtype = np.float64)\n",
    "\n",
    "    featureIndices = np.arange(numFeatures)\n",
    "    for i,entry in enumerate(Pat):\n",
    "        predicts[i] += P + np.sum(B[entry,featureIndices],axis=0)\n",
    "\n",
    "    return np.argmax(predicts,axis=1)"
   ]
  },
  {
   "cell_type": "markdown",
   "metadata": {},
   "source": [
    "In the following cell, your implemenation will be tested using also **hidden tests**. Do not edit the cell. You can obtain **3 points** for your implementation.  "
   ]
  },
  {
   "cell_type": "code",
   "execution_count": 164,
   "metadata": {
    "deletable": false,
    "editable": false,
    "nbgrader": {
     "cell_type": "code",
     "checksum": "8d3e34c270dee540b04185866e527124",
     "grade": true,
     "grade_id": "cell-643921bc7937c7dd",
     "locked": true,
     "points": 3,
     "schema_version": 3,
     "solution": false,
     "task": false
    }
   },
   "outputs": [
    {
     "name": "stdout",
     "output_type": "stream",
     "text": [
      "[-3.33963722 -3.14586069 -3.33235307 -3.28461616 -3.3623063  -3.47329013\n",
      " -3.34022154 -3.26395803 -3.35934206 -3.33963722]\n",
      "[9 5 1 ... 0 0 4]\n",
      "True classes [8 5 1 ... 0 0 4]\n",
      "Accuracy: 0.8366\n"
     ]
    }
   ],
   "source": [
    "B, P = NBTrain(npzfile['X_train'], npzfile['y_train'], 3, 10, 1)\n",
    "print(P)\n",
    "X_train = npzfile['X_train']\n",
    "c = NBClassify(npzfile['X_train'],B,P)\n",
    "print(c)\n",
    "print('True classes',npzfile['y_train'])\n",
    "print(f\"Accuracy: {np.sum(c == npzfile['y_train'])/ c.shape[0]}\")\n"
   ]
  },
  {
   "cell_type": "code",
   "execution_count": 165,
   "metadata": {},
   "outputs": [
    {
     "name": "stdout",
     "output_type": "stream",
     "text": [
      "Accuracy: 0.83666\n"
     ]
    }
   ],
   "source": [
    "#My testing whether the scikit implementation does better than mine with the same Laplace smoothing\n",
    "from sklearn.naive_bayes import CategoricalNB\n",
    "\n",
    "nb = CategoricalNB()\n",
    "nb.fit(npzfile[\"X_train\"],npzfile[\"y_train\"])\n",
    "results = nb.predict(npzfile[\"X_train\"])\n",
    "print(f\"Accuracy: {np.sum(results == npzfile['y_train'])/ results.shape[0]}\")"
   ]
  },
  {
   "cell_type": "markdown",
   "metadata": {},
   "source": [
    "## Task 3: Find the best classifier\n",
    "\n",
    "There are two sub-tasks here:\n",
    "\n",
    "1. Calculate the error of the classifier on the validation set `X_validate` and the test set `X_test` for different Naïve bayes classifiers trained on `X_train` with different values of Laplace correction `LC` = 0, 0.00001, 0.0001, 0.0005, 0.001, 0.002, 0.005, 0.01, 0.1, 0.2, 0.4, 1. For which of these Laplace correction values is the error on the validation set minimal?\n",
    "\n",
    "3. Describe the errors made by your best obtained classifier."
   ]
  },
  {
   "cell_type": "markdown",
   "metadata": {},
   "source": [
    "Implement the following function that selects the value of Laplace correction from the given list for which the accuracy of the classifier on the validation set is maximal. The function should return the selected Laplace correction and a two-dimensional array with rows of the form\n",
    "\n",
    "(*lc*, *train_a*, *validate_a*, *test_a*)\n",
    "\n",
    "where \n",
    "* *lc* is a value of Laplace correction from the given list,\n",
    "* *train_a* is the accuracy of the Naïve Bayes classifier with the Laplace correction *lc* on the train set,\n",
    "* *validate_a* is the accuracy of the Naïve Bayes classifier with the Laplace correction *lc* on the validation set,\n",
    "* *train_a* is the accuracy of the Naïve Bayes classifier with the Laplace correction *lc* on the test set\n"
   ]
  },
  {
   "cell_type": "code",
   "execution_count": 166,
   "metadata": {
    "deletable": false,
    "nbgrader": {
     "cell_type": "code",
     "checksum": "6d9e042585a22de4c011b5c2d164f2c6",
     "grade": false,
     "grade_id": "cell-e00a9b78db8fa3be",
     "locked": false,
     "schema_version": 3,
     "solution": true,
     "task": false
    }
   },
   "outputs": [],
   "source": [
    "def best_LC(X_train, y_train, X_validate, y_validate, X_test, y_test, FNum, CNum, lc_list=[0.0]):\n",
    "    # Using NBTrain and NBClassify, find the value of Laplace correction from the list\n",
    "    # lc_list for which the classifier trained on X_train with true classes y_train\n",
    "    # has the highest accuracy on the validation set X_validate with true classes y_validate\n",
    "    # Parameters:\n",
    "    #   X_train    a two-dimensional numpy array of patterns (each row is one pattern),\n",
    "    #   y_train    a one-dimensional numpy array of integers with correct classes for \n",
    "    #              the patterns in X_train,\n",
    "    #   X_validate a two-dimensional numpy array of patterns (each row is one pattern),\n",
    "    #   y_validate a one-dimensional numpy array of integers with correct classes for \n",
    "    #              the patterns in X_validate,\n",
    "    #   FNum       the number of possible values for a feature, \n",
    "    #              the features can have values between 0 and FNum-1\n",
    "    #   CNum       the number of classes\n",
    "    #   LC_list    a list of values of Laplace correction\n",
    "    # Returns:     one value from LC_list that is the best Laplace correction; \n",
    "    #              if the best accuracy is achieved for more than one Laplace correction\n",
    "    #              from the list lc_list, the function returns the leftmost one in lc_list\n",
    "    result = np.zeros((3,len(lc_list)))\n",
    "    result = np.concatenate([np.array([lc_list]),result],axis=0)\n",
    "    for c,lc in enumerate(lc_list):\n",
    "        B,P = NBTrain(X_train,y_train,FNum,CNum,lc)\n",
    "        predTrainClasses = NBClassify(X_train,B,P)\n",
    "        predValClasses = NBClassify(X_validate,B,P)\n",
    "        predTestClasses = NBClassify(X_test,B,P)\n",
    "        accuracyTrain = np.sum(predTrainClasses == y_train)/ predTrainClasses.shape[0]\n",
    "        accuracyVal = np.sum(predValClasses == y_validate)/ predValClasses.shape[0]\n",
    "        accuracyTest = np.sum(predTestClasses == y_test)/ predTestClasses.shape[0]\n",
    "        result[1,c]+=accuracyTrain\n",
    "        result[2,c]+=accuracyVal\n",
    "        result[3,c]+= accuracyTest\n",
    "\n",
    "    return lc_list[np.min(np.argmax(result[2]))],result.T\n",
    "    "
   ]
  },
  {
   "cell_type": "markdown",
   "metadata": {},
   "source": [
    "In the following cell, the function `best_LC` will be tested, including **hidden tests** (you can obtain **2 points**). "
   ]
  },
  {
   "cell_type": "code",
   "execution_count": 167,
   "metadata": {
    "deletable": false,
    "editable": false,
    "nbgrader": {
     "cell_type": "code",
     "checksum": "82cffccb9bea12d29d71f20850aade3e",
     "grade": true,
     "grade_id": "cell-b9874d63bd3092ea",
     "locked": true,
     "points": 2,
     "schema_version": 3,
     "solution": false,
     "task": false
    }
   },
   "outputs": [
    {
     "name": "stdout",
     "output_type": "stream",
     "text": [
      "The best Laplace correction for mini-dataset 0.1\n",
      "   Laplace correction  Train accuracy  Validation accuracy  Test accuracy\n",
      "0                 0.0            1.00                 0.05           0.15\n",
      "1                 0.1            1.00                 0.45           0.45\n",
      "2                 0.5            1.00                 0.40           0.30\n",
      "3                 1.0            0.85                 0.35           0.25\n"
     ]
    },
    {
     "name": "stderr",
     "output_type": "stream",
     "text": [
      "C:\\Users\\hgand\\AppData\\Local\\Temp\\ipykernel_21928\\3793682572.py:36: RuntimeWarning: divide by zero encountered in log2\n",
      "  return  np.log2(counts/classCounts),priors\n"
     ]
    }
   ],
   "source": [
    "import pandas as pd\n",
    "\n",
    "K = 20\n",
    "X_train = npzfile['X_train'][:2 * K]\n",
    "X_validate = npzfile['X_validate'][:K]\n",
    "X_test = npzfile['X_test'][:K]\n",
    "y_train = npzfile['y_train'][:2 * K]\n",
    "y_validate = npzfile['y_validate'][:K]\n",
    "y_test = npzfile['y_test'][:K]\n",
    "\n",
    "best_lc, table = best_LC(X_train, y_train, X_validate, y_validate, X_test, y_test, 3, 10, lc_list=[0.0, 0.1, 0.5, 1.0])\n",
    "print(f\"The best Laplace correction for mini-dataset {best_lc}\")\n",
    "\n",
    "assert best_lc == 0.1\n",
    "df = pd.DataFrame(table, columns=['Laplace correction', 'Train accuracy', 'Validation accuracy', 'Test accuracy'])\n",
    "print(df)\n",
    "\n"
   ]
  },
  {
   "cell_type": "markdown",
   "metadata": {},
   "source": [
    "In the next cell, find the best Laplace correction for the complete dataset obtained from the file `MNIST3_v1_dataset.npz`(with respect to the accuracy on the validation set) to variable `lc` and the corresponding accuracy on the test set to variable `accuracy'. Use the list `lc_list = [0, 0.00001, 0.0001, 0.0005, 0.001, 0.002, 0.005, 0.01, 0.1, 0.2, 0.4, 1]` as the set of possible values of the Laplace correction.\n",
    "\n",
    "Additionally, print the table obtained from the corresponding call to `best_LC`. "
   ]
  },
  {
   "cell_type": "code",
   "execution_count": 182,
   "metadata": {
    "deletable": false,
    "nbgrader": {
     "cell_type": "code",
     "checksum": "015b01c03c188cb99e1c90bd255b6074",
     "grade": false,
     "grade_id": "cell-3b0c3622b157700f",
     "locked": false,
     "schema_version": 3,
     "solution": true,
     "task": false
    }
   },
   "outputs": [
    {
     "name": "stderr",
     "output_type": "stream",
     "text": [
      "C:\\Users\\hgand\\AppData\\Local\\Temp\\ipykernel_21928\\3793682572.py:36: RuntimeWarning: divide by zero encountered in log2\n",
      "  return  np.log2(counts/classCounts),priors\n"
     ]
    },
    {
     "name": "stdout",
     "output_type": "stream",
     "text": [
      "    Laplace correction  Train accuracy  Validation accuracy  Test accuracy\n",
      "0              0.00000         0.84116               0.8337         0.8468\n",
      "1              0.00001         0.83990               0.8357         0.8491\n",
      "2              0.00010         0.83950               0.8358         0.8490\n",
      "3              0.00050         0.83920               0.8357         0.8489\n",
      "4              0.00100         0.83908               0.8354         0.8488\n",
      "5              0.00200         0.83900               0.8354         0.8486\n",
      "6              0.00500         0.83876               0.8354         0.8485\n",
      "7              0.01000         0.83854               0.8353         0.8485\n",
      "8              0.10000         0.83792               0.8352         0.8479\n",
      "9              0.20000         0.83770               0.8350         0.8480\n",
      "10             0.40000         0.83730               0.8345         0.8477\n",
      "11             1.00000         0.83660               0.8339         0.8471\n"
     ]
    }
   ],
   "source": [
    "lc_list = [0.0, 0.00001, 0.0001, 0.0005, 0.001, 0.002, 0.005, 0.01, 0.1, 0.2, 0.4, 1.0]\n",
    "\n",
    "lc,table = best_LC(npzfile[\"X_train\"],npzfile[\"y_train\"],npzfile['X_validate'],npzfile['y_validate'],npzfile['X_test'],npzfile['y_test'],3,10,lc_list)\n",
    "\n",
    "df = pd.DataFrame(table, columns=['Laplace correction', 'Train accuracy', 'Validation accuracy', 'Test accuracy'])\n",
    "print(df)\n",
    "\n",
    "accuracy =df['Test accuracy'].max()"
   ]
  },
  {
   "cell_type": "markdown",
   "metadata": {},
   "source": [
    "In the following cell, the values of `lc` and `accuracy` will be tested (**1 point**)."
   ]
  },
  {
   "cell_type": "code",
   "execution_count": null,
   "metadata": {},
   "outputs": [],
   "source": []
  },
  {
   "cell_type": "markdown",
   "metadata": {},
   "source": [
    "Take the best Naïve Bayes classifier for the complete dataset and plot the first 10 images with digits from the test set, for which the classifier made an error. For each image, print the classification computed by the classifier and the correct classification. "
   ]
  },
  {
   "cell_type": "code",
   "execution_count": 237,
   "metadata": {
    "deletable": false,
    "nbgrader": {
     "cell_type": "code",
     "checksum": "27883c87442767c1accd7fb1e39c0830",
     "grade": false,
     "grade_id": "cell-ea77dcd6358977bd",
     "locked": false,
     "schema_version": 3,
     "solution": true,
     "task": false
    }
   },
   "outputs": [
    {
     "name": "stdout",
     "output_type": "stream",
     "text": [
      "Predicted Real\n",
      "4 5\n",
      "3 5\n",
      "4 6\n",
      "0 4\n",
      "3 2\n",
      "3 1\n",
      "2 6\n",
      "8 0\n",
      "2 3\n",
      "9 4\n"
     ]
    },
    {
     "data": {
      "image/png": "[encoded data removed]",
      "text/plain": [
       "<Figure size 640x480 with 10 Axes>"
      ]
     },
     "metadata": {},
     "output_type": "display_data"
    }
   ],
   "source": [
    "B,P = NBTrain(npzfile[\"X_train\"],npzfile[\"y_train\"],3,10,lc)\n",
    "wrongClass = 0\n",
    "fig,axs = plt.subplots(2,5)\n",
    "print(\"Predicted Real\")\n",
    "for c,sample in enumerate(npzfile[\"X_test\"]):\n",
    "    c_pred = NBClassify(np.array([sample]),B,P)\n",
    "    c_real = npzfile[\"y_test\"][c]\n",
    "    if c_pred[0]!=c_real:\n",
    "        print(c_pred[0],c_real)\n",
    "        axs[wrongClass//5,wrongClass%5].imshow(np.reshape(sample,(28,28)),cmap=\"gray\")\n",
    "        wrongClass+=1\n",
    "\n",
    "    if(wrongClass==10):\n",
    "        break"
   ]
  },
  {
   "cell_type": "markdown",
   "metadata": {
    "deletable": false,
    "editable": false,
    "nbgrader": {
     "cell_type": "markdown",
     "checksum": "400a03aff124e5db3835f003eafb751a",
     "grade": false,
     "grade_id": "cell-f6a5d063cd3c5f1a",
     "locked": true,
     "points": 1,
     "schema_version": 3,
     "solution": false,
     "task": true
    }
   },
   "source": [
    "Try to explain the errors made by the classifier. (**1 point**)\n",
    "\n",
    "I would say the error happens when the digit resembles another digit, and probably there is only a slight difference in the log likelihoods\n",
    "between the real and the predicted class.\n",
    "\n"
   ]
  }
 ],
 "metadata": {
  "kernelspec": {
   "display_name": "Python 3 (ipykernel)",
   "language": "python",
   "name": "python3"
  },
  "language_info": {
   "codemirror_mode": {
    "name": "ipython",
    "version": 3
   },
   "file_extension": ".py",
   "mimetype": "text/x-python",
   "name": "python",
   "nbconvert_exporter": "python",
   "pygments_lexer": "ipython3",
   "version": "3.11.9"
  }
 },
 "nbformat": 4,
 "nbformat_minor": 4
}
